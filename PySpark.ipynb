{
  "nbformat": 4,
  "nbformat_minor": 0,
  "metadata": {
    "colab": {
      "name": "PySpark.ipynb",
      "provenance": [],
      "mount_file_id": "15KeLTfwUyVUtyHjlVwZ49tbhYYcnXNw_",
      "authorship_tag": "ABX9TyPNTUNHFyBoY9lEPOagxyV/",
      "include_colab_link": true
    },
    "kernelspec": {
      "name": "python3",
      "display_name": "Python 3"
    },
    "language_info": {
      "name": "python"
    }
  },
  "cells": [
    {
      "cell_type": "markdown",
      "metadata": {
        "id": "view-in-github",
        "colab_type": "text"
      },
      "source": [
        "<a href=\"https://colab.research.google.com/github/pedroh6s/Conhecendo-o-PySpark/blob/main/PySpark.ipynb\" target=\"_parent\"><img src=\"https://colab.research.google.com/assets/colab-badge.svg\" alt=\"Open In Colab\"/></a>"
      ]
    },
    {
      "cell_type": "code",
      "metadata": {
        "id": "6zk7CN5-5I8L"
      },
      "source": [
        "pip install pyspark"
      ],
      "execution_count": null,
      "outputs": []
    },
    {
      "cell_type": "code",
      "metadata": {
        "id": "sIW-efA85VBG"
      },
      "source": [
        "from pyspark.sql import SparkSession\n",
        "import pyspark.sql.functions as F"
      ],
      "execution_count": 27,
      "outputs": []
    },
    {
      "cell_type": "code",
      "metadata": {
        "id": "3AMH9AwS5tjq"
      },
      "source": [
        "#CONFIGURAR A SPARKSESSION\n",
        "spark = SparkSession.builder\\\n",
        "        .master(\"local\")\\\n",
        "        .appName(\"aprendendo-dataframes\")\\\n",
        "        .config(\"spark.ui.port\", \"4050\")\\\n",
        "        .getOrCreate()\n",
        "\n",
        "#\\ permite a quebra de linha, facilitando a leitura, mas mantém tudo como apenas uma linha de comando.\n",
        "#também é possível escrever tudo dentro de parênteses"
      ],
      "execution_count": 10,
      "outputs": []
    },
    {
      "cell_type": "code",
      "metadata": {
        "colab": {
          "base_uri": "https://localhost:8080/",
          "height": 221
        },
        "id": "ssmaJTXlAfMP",
        "outputId": "76917fa8-a980-4dd0-915b-ee6920963a0d"
      },
      "source": [
        "spark"
      ],
      "execution_count": 11,
      "outputs": [
        {
          "output_type": "execute_result",
          "data": {
            "text/html": [
              "\n",
              "            <div>\n",
              "                <p><b>SparkSession - in-memory</b></p>\n",
              "                \n",
              "        <div>\n",
              "            <p><b>SparkContext</b></p>\n",
              "\n",
              "            <p><a href=\"http://8ffc0189582c:4050\">Spark UI</a></p>\n",
              "\n",
              "            <dl>\n",
              "              <dt>Version</dt>\n",
              "                <dd><code>v3.2.0</code></dd>\n",
              "              <dt>Master</dt>\n",
              "                <dd><code>local</code></dd>\n",
              "              <dt>AppName</dt>\n",
              "                <dd><code>aprendendo-dataframes</code></dd>\n",
              "            </dl>\n",
              "        </div>\n",
              "        \n",
              "            </div>\n",
              "        "
            ],
            "text/plain": [
              "<pyspark.sql.session.SparkSession at 0x7f54aa87aad0>"
            ]
          },
          "metadata": {},
          "execution_count": 11
        }
      ]
    },
    {
      "cell_type": "code",
      "metadata": {
        "colab": {
          "base_uri": "https://localhost:8080/"
        },
        "id": "uODvB70Z-EM6",
        "outputId": "65564d76-391a-436a-8abb-d1f7a52e98ff"
      },
      "source": [
        "#CRIANDO DATAFRAMES\n",
        "\n",
        "dados = [\n",
        "         ('João da Silva', 'São Paulo', 'SP', 1100.00),\n",
        "         ('Maria dos Santos', 'São Paulo', 'SP', 2100.00),\n",
        "         ('Carlos Victor', 'Rio de Janeiro', 'SP', 2100.00),\n",
        "         ('Pedro José', 'Maceió', 'AL', 3600.00)\n",
        "]\n",
        "\n",
        "schema = ['Nome', 'Cidade', 'Estado', 'Salário']\n",
        "\n",
        "df = spark.createDataFrame(data=dados, schema=schema)\n",
        "\n",
        "df"
      ],
      "execution_count": 14,
      "outputs": [
        {
          "output_type": "execute_result",
          "data": {
            "text/plain": [
              "DataFrame[Nome: string, Cidade: string, Estado: string, Salário: double]"
            ]
          },
          "metadata": {},
          "execution_count": 14
        }
      ]
    },
    {
      "cell_type": "code",
      "metadata": {
        "colab": {
          "base_uri": "https://localhost:8080/"
        },
        "id": "9gACYiAXBNeL",
        "outputId": "f87c88fe-e308-4a26-cd54-d725e26429f3"
      },
      "source": [
        "df.show()"
      ],
      "execution_count": 15,
      "outputs": [
        {
          "output_type": "stream",
          "name": "stdout",
          "text": [
            "+----------------+--------------+------+-------+\n",
            "|            Nome|        Cidade|Estado|Salário|\n",
            "+----------------+--------------+------+-------+\n",
            "|   João da Silva|     São Paulo|    SP| 1100.0|\n",
            "|Maria dos Santos|     São Paulo|    SP| 2100.0|\n",
            "|   Carlos Victor|Rio de Janeiro|    SP| 2100.0|\n",
            "|      Pedro José|        Maceió|    AL| 3600.0|\n",
            "+----------------+--------------+------+-------+\n",
            "\n"
          ]
        }
      ]
    },
    {
      "cell_type": "code",
      "metadata": {
        "colab": {
          "base_uri": "https://localhost:8080/"
        },
        "id": "J3ppN6AoBen7",
        "outputId": "0fef55bd-5234-4ab2-be22-45e49ed2a703"
      },
      "source": [
        "df.printSchema()"
      ],
      "execution_count": 16,
      "outputs": [
        {
          "output_type": "stream",
          "name": "stdout",
          "text": [
            "root\n",
            " |-- Nome: string (nullable = true)\n",
            " |-- Cidade: string (nullable = true)\n",
            " |-- Estado: string (nullable = true)\n",
            " |-- Salário: double (nullable = true)\n",
            "\n"
          ]
        }
      ]
    },
    {
      "cell_type": "code",
      "metadata": {
        "id": "fbz3nxk0DzWU"
      },
      "source": [
        "#Importando CSV no Pyspark\n",
        "#existem diferentes maneiras de importar arquivos no Pyspark\n",
        "df2 = (spark\n",
        "       .read\n",
        "       .format(\"csv\")\n",
        "       .option(\"header\", \"true\")\n",
        "       .option(\"delimiter\", \";\")\n",
        "       .load(\"/content/drive/MyDrive/FONTES DE DADOS/arquivo_geral.csv\")\n",
        ")"
      ],
      "execution_count": 17,
      "outputs": []
    },
    {
      "cell_type": "code",
      "metadata": {
        "colab": {
          "base_uri": "https://localhost:8080/"
        },
        "id": "5teu2-3eErWv",
        "outputId": "274ecfd4-0c1a-42f3-9044-0f21596d0600"
      },
      "source": [
        "df2.show(10)\n",
        "#por padrão mostra 20 linhas, mas é possível personalizar"
      ],
      "execution_count": 20,
      "outputs": [
        {
          "output_type": "stream",
          "name": "stdout",
          "text": [
            "+------+------+----------+----------+---------------+-----------+----------------+\n",
            "|regiao|estado|      data|casosNovos|casosAcumulados|obitosNovos|obitosAcumulados|\n",
            "+------+------+----------+----------+---------------+-----------+----------------+\n",
            "| Norte|    RO|2020-01-30|         0|              0|          0|               0|\n",
            "| Norte|    RO|2020-01-31|         0|              0|          0|               0|\n",
            "| Norte|    RO|2020-02-01|         0|              0|          0|               0|\n",
            "| Norte|    RO|2020-02-02|         0|              0|          0|               0|\n",
            "| Norte|    RO|2020-02-03|         0|              0|          0|               0|\n",
            "| Norte|    RO|2020-02-04|         0|              0|          0|               0|\n",
            "| Norte|    RO|2020-02-05|         0|              0|          0|               0|\n",
            "| Norte|    RO|2020-02-06|         0|              0|          0|               0|\n",
            "| Norte|    RO|2020-02-07|         0|              0|          0|               0|\n",
            "| Norte|    RO|2020-02-08|         0|              0|          0|               0|\n",
            "+------+------+----------+----------+---------------+-----------+----------------+\n",
            "only showing top 10 rows\n",
            "\n"
          ]
        }
      ]
    },
    {
      "cell_type": "code",
      "metadata": {
        "colab": {
          "base_uri": "https://localhost:8080/"
        },
        "id": "2N-LLzToFW06",
        "outputId": "f914856c-bb6b-4601-ba3f-ea651e23b714"
      },
      "source": [
        "df2.printSchema()"
      ],
      "execution_count": 21,
      "outputs": [
        {
          "output_type": "stream",
          "name": "stdout",
          "text": [
            "root\n",
            " |-- regiao: string (nullable = true)\n",
            " |-- estado: string (nullable = true)\n",
            " |-- data: string (nullable = true)\n",
            " |-- casosNovos: string (nullable = true)\n",
            " |-- casosAcumulados: string (nullable = true)\n",
            " |-- obitosNovos: string (nullable = true)\n",
            " |-- obitosAcumulados: string (nullable = true)\n",
            "\n"
          ]
        }
      ]
    },
    {
      "cell_type": "code",
      "metadata": {
        "id": "Bv8t73-JJMgA"
      },
      "source": [
        "#inferschema faz um reconhecimento automático dos tipos de dados presentes no dataframe\n",
        "#se numa coluna com valores de integer, caso exista uma string, a coluna entrará como string\n",
        "#assim como no pandas\n",
        "df2 = (spark\n",
        "       .read\n",
        "       .format(\"csv\")\n",
        "       .option(\"header\", \"true\")\n",
        "       .option(\"inferschema\", \"true\")\n",
        "       .option(\"delimiter\", \";\")\n",
        "       .load(\"/content/drive/MyDrive/FONTES DE DADOS/arquivo_geral.csv\")\n",
        ")"
      ],
      "execution_count": 24,
      "outputs": []
    },
    {
      "cell_type": "code",
      "metadata": {
        "colab": {
          "base_uri": "https://localhost:8080/"
        },
        "id": "iWZ9lc7yJMrT",
        "outputId": "23dd1bd7-4328-4834-a750-c23fb08f1fae"
      },
      "source": [
        "df2.printSchema()"
      ],
      "execution_count": 25,
      "outputs": [
        {
          "output_type": "stream",
          "name": "stdout",
          "text": [
            "root\n",
            " |-- regiao: string (nullable = true)\n",
            " |-- estado: string (nullable = true)\n",
            " |-- data: string (nullable = true)\n",
            " |-- casosNovos: integer (nullable = true)\n",
            " |-- casosAcumulados: integer (nullable = true)\n",
            " |-- obitosNovos: integer (nullable = true)\n",
            " |-- obitosAcumulados: integer (nullable = true)\n",
            "\n"
          ]
        }
      ]
    },
    {
      "cell_type": "code",
      "metadata": {
        "colab": {
          "base_uri": "https://localhost:8080/"
        },
        "id": "sA-KiJ50J8hF",
        "outputId": "7ba8d136-5c9b-416e-e5ec-75244131ce33"
      },
      "source": [
        "#COMANDOS SELECT E FILTER\n",
        "#SELECT - FORMA 1\n",
        "df2.select('regiao', 'estado', 'casosNovos').show(20)"
      ],
      "execution_count": 29,
      "outputs": [
        {
          "output_type": "stream",
          "name": "stdout",
          "text": [
            "+------+------+----------+\n",
            "|regiao|estado|casosNovos|\n",
            "+------+------+----------+\n",
            "| Norte|    RO|         0|\n",
            "| Norte|    RO|         0|\n",
            "| Norte|    RO|         0|\n",
            "| Norte|    RO|         0|\n",
            "| Norte|    RO|         0|\n",
            "| Norte|    RO|         0|\n",
            "| Norte|    RO|         0|\n",
            "| Norte|    RO|         0|\n",
            "| Norte|    RO|         0|\n",
            "| Norte|    RO|         0|\n",
            "| Norte|    RO|         0|\n",
            "| Norte|    RO|         0|\n",
            "| Norte|    RO|         0|\n",
            "| Norte|    RO|         0|\n",
            "| Norte|    RO|         0|\n",
            "| Norte|    RO|         0|\n",
            "| Norte|    RO|         0|\n",
            "| Norte|    RO|         0|\n",
            "| Norte|    RO|         0|\n",
            "| Norte|    RO|         0|\n",
            "+------+------+----------+\n",
            "only showing top 20 rows\n",
            "\n"
          ]
        }
      ]
    },
    {
      "cell_type": "code",
      "metadata": {
        "colab": {
          "base_uri": "https://localhost:8080/"
        },
        "id": "Qe6D-DG2J8lc",
        "outputId": "23a151f2-910f-46bd-ab84-3852581c1bc3"
      },
      "source": [
        "#SELECT - FORMA 2\n",
        "#UTILIZANDO FUNCTIONS PARA TRABALHAR COM COLUNAS\n",
        "df2.select(F.col('regiao'), F.col('estado'), F.col('casosNovos')).show(10)"
      ],
      "execution_count": 28,
      "outputs": [
        {
          "output_type": "stream",
          "name": "stdout",
          "text": [
            "+------+------+----------+\n",
            "|regiao|estado|casosNovos|\n",
            "+------+------+----------+\n",
            "| Norte|    RO|         0|\n",
            "| Norte|    RO|         0|\n",
            "| Norte|    RO|         0|\n",
            "| Norte|    RO|         0|\n",
            "| Norte|    RO|         0|\n",
            "| Norte|    RO|         0|\n",
            "| Norte|    RO|         0|\n",
            "| Norte|    RO|         0|\n",
            "| Norte|    RO|         0|\n",
            "| Norte|    RO|         0|\n",
            "+------+------+----------+\n",
            "only showing top 10 rows\n",
            "\n"
          ]
        }
      ]
    },
    {
      "cell_type": "code",
      "metadata": {
        "colab": {
          "base_uri": "https://localhost:8080/"
        },
        "id": "Ct-zo3zsNn_U",
        "outputId": "5e897158-6adc-4441-a18b-c2b5e368cad9"
      },
      "source": [
        "#FAZENDO FILTROS COM A FUNÇÃO FILTER\n",
        "df2.select(F.col('regiao'), F.col('estado'), F.col('casosNovos')).filter(F.col('estado') == 'RS').show(10)"
      ],
      "execution_count": 32,
      "outputs": [
        {
          "output_type": "stream",
          "name": "stdout",
          "text": [
            "+------+------+----------+\n",
            "|regiao|estado|casosNovos|\n",
            "+------+------+----------+\n",
            "|   Sul|    RS|         0|\n",
            "|   Sul|    RS|         0|\n",
            "|   Sul|    RS|         0|\n",
            "|   Sul|    RS|         0|\n",
            "|   Sul|    RS|         0|\n",
            "|   Sul|    RS|         0|\n",
            "|   Sul|    RS|         0|\n",
            "|   Sul|    RS|         0|\n",
            "|   Sul|    RS|         0|\n",
            "|   Sul|    RS|         0|\n",
            "+------+------+----------+\n",
            "only showing top 10 rows\n",
            "\n"
          ]
        }
      ]
    },
    {
      "cell_type": "code",
      "metadata": {
        "colab": {
          "base_uri": "https://localhost:8080/"
        },
        "id": "jHxAtXaMO2eD",
        "outputId": "f7181d92-4716-480a-b6a8-abd9d64241fe"
      },
      "source": [
        "df2.select('regiao', 'estado', 'casosNovos').filter(F.col('estado') == 'RJ').show(10)"
      ],
      "execution_count": 34,
      "outputs": [
        {
          "output_type": "stream",
          "name": "stdout",
          "text": [
            "+-------+------+----------+\n",
            "| regiao|estado|casosNovos|\n",
            "+-------+------+----------+\n",
            "|Sudeste|    RJ|         0|\n",
            "|Sudeste|    RJ|         0|\n",
            "|Sudeste|    RJ|         0|\n",
            "|Sudeste|    RJ|         0|\n",
            "|Sudeste|    RJ|         0|\n",
            "|Sudeste|    RJ|         0|\n",
            "|Sudeste|    RJ|         0|\n",
            "|Sudeste|    RJ|         0|\n",
            "|Sudeste|    RJ|         0|\n",
            "|Sudeste|    RJ|         0|\n",
            "+-------+------+----------+\n",
            "only showing top 10 rows\n",
            "\n"
          ]
        }
      ]
    },
    {
      "cell_type": "code",
      "metadata": {
        "colab": {
          "base_uri": "https://localhost:8080/"
        },
        "id": "L0zAuJKpU7Kk",
        "outputId": "a6334882-d1d6-4bcf-8c92-874e8bd8a620"
      },
      "source": [
        "#OUTRA FORMA DE FILTRAR DADOS\n",
        "df2.select('regiao', 'estado', 'casosNovos').filter(df2.regiao == 'Sudeste').show(10)\n"
      ],
      "execution_count": 35,
      "outputs": [
        {
          "output_type": "stream",
          "name": "stdout",
          "text": [
            "+-------+------+----------+\n",
            "| regiao|estado|casosNovos|\n",
            "+-------+------+----------+\n",
            "|Sudeste|    MG|         0|\n",
            "|Sudeste|    MG|         0|\n",
            "|Sudeste|    MG|         0|\n",
            "|Sudeste|    MG|         0|\n",
            "|Sudeste|    MG|         0|\n",
            "|Sudeste|    MG|         0|\n",
            "|Sudeste|    MG|         0|\n",
            "|Sudeste|    MG|         0|\n",
            "|Sudeste|    MG|         0|\n",
            "|Sudeste|    MG|         0|\n",
            "+-------+------+----------+\n",
            "only showing top 10 rows\n",
            "\n"
          ]
        }
      ]
    },
    {
      "cell_type": "code",
      "metadata": {
        "colab": {
          "base_uri": "https://localhost:8080/"
        },
        "id": "Ohn624qaVnxo",
        "outputId": "9480a757-9813-4b6b-99ff-522dc5aa7f22"
      },
      "source": [
        "df2.select('regiao', 'estado', 'casosNovos').filter(df2.estado == 'RJ').show(10)"
      ],
      "execution_count": 38,
      "outputs": [
        {
          "output_type": "stream",
          "name": "stdout",
          "text": [
            "+-------+------+----------+\n",
            "| regiao|estado|casosNovos|\n",
            "+-------+------+----------+\n",
            "|Sudeste|    RJ|         0|\n",
            "|Sudeste|    RJ|         0|\n",
            "|Sudeste|    RJ|         0|\n",
            "|Sudeste|    RJ|         0|\n",
            "|Sudeste|    RJ|         0|\n",
            "|Sudeste|    RJ|         0|\n",
            "|Sudeste|    RJ|         0|\n",
            "|Sudeste|    RJ|         0|\n",
            "|Sudeste|    RJ|         0|\n",
            "|Sudeste|    RJ|         0|\n",
            "+-------+------+----------+\n",
            "only showing top 10 rows\n",
            "\n"
          ]
        }
      ]
    },
    {
      "cell_type": "code",
      "metadata": {
        "colab": {
          "base_uri": "https://localhost:8080/"
        },
        "id": "qelJU-QdWN8G",
        "outputId": "be2e9d58-011a-4fc7-fab4-9ab2123a4619"
      },
      "source": [
        "df2.select('regiao', 'estado', 'casosNovos').filter(\"estado = 'MG'\").show(10)"
      ],
      "execution_count": 39,
      "outputs": [
        {
          "output_type": "stream",
          "name": "stdout",
          "text": [
            "+-------+------+----------+\n",
            "| regiao|estado|casosNovos|\n",
            "+-------+------+----------+\n",
            "|Sudeste|    MG|         0|\n",
            "|Sudeste|    MG|         0|\n",
            "|Sudeste|    MG|         0|\n",
            "|Sudeste|    MG|         0|\n",
            "|Sudeste|    MG|         0|\n",
            "|Sudeste|    MG|         0|\n",
            "|Sudeste|    MG|         0|\n",
            "|Sudeste|    MG|         0|\n",
            "|Sudeste|    MG|         0|\n",
            "|Sudeste|    MG|         0|\n",
            "+-------+------+----------+\n",
            "only showing top 10 rows\n",
            "\n"
          ]
        }
      ]
    },
    {
      "cell_type": "code",
      "metadata": {
        "colab": {
          "base_uri": "https://localhost:8080/"
        },
        "id": "eFojneGzWyLv",
        "outputId": "bc9762ad-856c-4b88-b669-99f2b08b3a60"
      },
      "source": [
        "filtro = F.col('regiao') == 'Sul'\n",
        "df2.select('regiao', 'estado', 'casosNovos').filter(filtro).show(10)"
      ],
      "execution_count": 46,
      "outputs": [
        {
          "output_type": "stream",
          "name": "stdout",
          "text": [
            "+------+------+----------+\n",
            "|regiao|estado|casosNovos|\n",
            "+------+------+----------+\n",
            "|   Sul|    PR|         0|\n",
            "|   Sul|    PR|         0|\n",
            "|   Sul|    PR|         0|\n",
            "|   Sul|    PR|         0|\n",
            "|   Sul|    PR|         0|\n",
            "|   Sul|    PR|         0|\n",
            "|   Sul|    PR|         0|\n",
            "|   Sul|    PR|         0|\n",
            "|   Sul|    PR|         0|\n",
            "|   Sul|    PR|         0|\n",
            "+------+------+----------+\n",
            "only showing top 10 rows\n",
            "\n"
          ]
        }
      ]
    },
    {
      "cell_type": "code",
      "metadata": {
        "colab": {
          "base_uri": "https://localhost:8080/"
        },
        "id": "1HkfdPLsW5rU",
        "outputId": "af713693-4754-49c2-fcbc-990cdfa3c02f"
      },
      "source": [
        "filtro2 = \"estado = 'AL'\"\n",
        "df2.select('regiao', 'estado', 'casosNovos').filter(filtro2).show(10)"
      ],
      "execution_count": 41,
      "outputs": [
        {
          "output_type": "stream",
          "name": "stdout",
          "text": [
            "+--------+------+----------+\n",
            "|  regiao|estado|casosNovos|\n",
            "+--------+------+----------+\n",
            "|Nordeste|    AL|         0|\n",
            "|Nordeste|    AL|         0|\n",
            "|Nordeste|    AL|         0|\n",
            "|Nordeste|    AL|         0|\n",
            "|Nordeste|    AL|         0|\n",
            "|Nordeste|    AL|         0|\n",
            "|Nordeste|    AL|         0|\n",
            "|Nordeste|    AL|         0|\n",
            "|Nordeste|    AL|         0|\n",
            "|Nordeste|    AL|         0|\n",
            "+--------+------+----------+\n",
            "only showing top 10 rows\n",
            "\n"
          ]
        }
      ]
    },
    {
      "cell_type": "code",
      "metadata": {
        "colab": {
          "base_uri": "https://localhost:8080/"
        },
        "id": "Us6ziHF1XWtA",
        "outputId": "d3329a3c-4fc6-493f-f71f-67b9e692aa72"
      },
      "source": [
        "lista_colunas = ['regiao', 'estado', 'casosNovos']\n",
        "filtro3 = df2.estado == 'SP'\n",
        "df2.select(lista_colunas).filter(filtro3).show(10)"
      ],
      "execution_count": 43,
      "outputs": [
        {
          "output_type": "stream",
          "name": "stdout",
          "text": [
            "+-------+------+----------+\n",
            "| regiao|estado|casosNovos|\n",
            "+-------+------+----------+\n",
            "|Sudeste|    SP|         0|\n",
            "|Sudeste|    SP|         0|\n",
            "|Sudeste|    SP|         0|\n",
            "|Sudeste|    SP|         0|\n",
            "|Sudeste|    SP|         0|\n",
            "|Sudeste|    SP|         0|\n",
            "|Sudeste|    SP|         0|\n",
            "|Sudeste|    SP|         0|\n",
            "|Sudeste|    SP|         0|\n",
            "|Sudeste|    SP|         0|\n",
            "+-------+------+----------+\n",
            "only showing top 10 rows\n",
            "\n"
          ]
        }
      ]
    },
    {
      "cell_type": "code",
      "metadata": {
        "colab": {
          "base_uri": "https://localhost:8080/"
        },
        "id": "q6FQctA3XqPF",
        "outputId": "513f0240-b3d4-455d-91b7-b5abcdbd1705"
      },
      "source": [
        "#Filtro duplo\n",
        "#O filtro está retornando os resultados cuja região é Sul\n",
        "#O filtro2 está retornando os resultados cujo estado é Alagoas\n",
        "#Como não existe nenhum resultado em comuns nas duas buscas, temos como resultado\n",
        "#um dataframe vazio \n",
        "df2.select(lista_colunas).filter(filtro).filter(filtro2).show(10)"
      ],
      "execution_count": 48,
      "outputs": [
        {
          "output_type": "stream",
          "name": "stdout",
          "text": [
            "+------+------+----------+\n",
            "|regiao|estado|casosNovos|\n",
            "+------+------+----------+\n",
            "+------+------+----------+\n",
            "\n"
          ]
        }
      ]
    },
    {
      "cell_type": "code",
      "metadata": {
        "id": "5afdwKWvZgyy"
      },
      "source": [
        ""
      ],
      "execution_count": null,
      "outputs": []
    }
  ]
}